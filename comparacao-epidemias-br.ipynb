{
 "cells": [
  {
   "cell_type": "markdown",
   "metadata": {},
   "source": [
    "<h1>Comparação da evolução das principais epidemias da década no Brasil</h1>"
   ]
  },
  {
   "cell_type": "markdown",
   "metadata": {},
   "source": [
    "<h2>Covid-19 x Zika Virus x Dengue </h2>"
   ]
  },
  {
   "cell_type": "markdown",
   "metadata": {},
   "source": [
    "<br>Este trabalho tem como intuito dispor visualmente a evolução das principais epidemias que ocorreram no Brasil: Covid-19(2020), Zika Virus(2016) e Dengue(2015). E a partir disso, comparar umas as outras."
   ]
  },
  {
   "cell_type": "markdown",
   "metadata": {},
   "source": [
    "<br>Os casos notificados são coletados durante o maior periodo epidemiológico da doença. Foram retiradas as informações das seguintes fontes:\n",
    "\n",
    "- Dengue(2015): http://tabnet.datasus.gov.br/cgi/tabcgi.exe?sinannet/cnv/denguebbr.def\n",
    "- Zika(2016): https://sage.saude.gov.br/graficos/index.php?editor=on&arquivo=microcefalia/microcefaliaSemana.php\n",
    "- Covid-19(2020 - 1º Semestre): https://covid.saude.gov.br/"
   ]
  },
  {
   "cell_type": "code",
   "execution_count": 1,
   "metadata": {},
   "outputs": [],
   "source": [
    "import pandas as pd\n",
    "import matplotlib.pyplot as plt\n",
    "%matplotlib inline"
   ]
  },
  {
   "cell_type": "code",
   "execution_count": null,
   "metadata": {},
   "outputs": [],
   "source": [
    "covid_data = pd.read_excel(r'dataset/covid-2020.xlsx')\n",
    "zika_data = pd.read_csv(r'dataset/zika-microcefalia-2016.csv')\n",
    "dengue_data = pd.read_csv(r'dataset/dengue-2015.csv',encoding = 'utf-8')"
   ]
  },
  {
   "cell_type": "code",
   "execution_count": null,
   "metadata": {},
   "outputs": [],
   "source": [
    "covid_data.info()"
   ]
  },
  {
   "cell_type": "code",
   "execution_count": null,
   "metadata": {},
   "outputs": [],
   "source": [
    "dengue_data.info()"
   ]
  },
  {
   "cell_type": "code",
   "execution_count": null,
   "metadata": {},
   "outputs": [],
   "source": [
    "zika_data.info()"
   ]
  },
  {
   "cell_type": "code",
   "execution_count": null,
   "metadata": {},
   "outputs": [],
   "source": [
    "dengue_data[0:52].plot('Semana epidem. Notificação','Casos_Prováveis',kind='bar')"
   ]
  },
  {
   "cell_type": "code",
   "execution_count": null,
   "metadata": {},
   "outputs": [],
   "source": [
    "covid_data.groupby('semanaEpi')['casosAcumulado'].sum().plot(kind=\"bar\")"
   ]
  },
  {
   "cell_type": "code",
   "execution_count": null,
   "metadata": {},
   "outputs": [],
   "source": [
    "zika_data.plot('Semana ','Casos Notificados ')"
   ]
  },
  {
   "cell_type": "markdown",
   "metadata": {},
   "source": [
    "A partir dos gráficos dos periodos analisados, observa-se por exemplo, um periodo completo epidemico da *Dengue*. Em comparação com o gráfico do covid, este levou muito menos tempo para atingir o seu topo, porém com muitos menos casos."
   ]
  },
  {
   "cell_type": "markdown",
   "metadata": {},
   "source": [
    "A linha dos casos notificados do Zika Virus no entanto, mostram uma crescente no ano de 2016 e a progrediu mais que as demais para atingir o topo de casos. Uma amostra dos anos conseguintes seria melhor para conseguir entender como ela se comportaria no total. "
   ]
  },
  {
   "cell_type": "code",
   "execution_count": null,
   "metadata": {},
   "outputs": [],
   "source": [
    "plt.plot(dengue_data[0:52]['Casos_Prováveis'])\n",
    "plt.plot(zika_data['Casos Notificados '])\n",
    "plt.plot(covid_data.groupby('semanaEpi')['casosNovos'].sum()[:-1])"
   ]
  },
  {
   "cell_type": "code",
   "execution_count": null,
   "metadata": {},
   "outputs": [],
   "source": []
  },
  {
   "cell_type": "code",
   "execution_count": null,
   "metadata": {},
   "outputs": [],
   "source": []
  }
 ],
 "metadata": {
  "kernelspec": {
   "display_name": "Python 3",
   "language": "python",
   "name": "python3"
  },
  "language_info": {
   "codemirror_mode": {
    "name": "ipython",
    "version": 3
   },
   "file_extension": ".py",
   "mimetype": "text/x-python",
   "name": "python",
   "nbconvert_exporter": "python",
   "pygments_lexer": "ipython3",
   "version": "3.6.9"
  }
 },
 "nbformat": 4,
 "nbformat_minor": 4
}
