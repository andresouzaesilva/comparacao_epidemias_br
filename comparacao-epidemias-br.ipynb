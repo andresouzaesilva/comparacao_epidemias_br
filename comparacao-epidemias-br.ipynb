{
 "cells": [
  {
   "cell_type": "markdown",
   "metadata": {},
   "source": [
    "<h1>Comparação da evolução das principais epidemias da década no Brasil</h1>"
   ]
  },
  {
   "cell_type": "markdown",
   "metadata": {},
   "source": [
    "<h2>Covid-19 x Zika Virus x Dengue </h2>"
   ]
  },
  {
   "cell_type": "markdown",
   "metadata": {},
   "source": [
    "Trabalho realizado pelos alunos da Fatec, Gabriel Ferreira Fabian e João Vitor de Paula."
   ]
  },
  {
   "cell_type": "markdown",
   "metadata": {},
   "source": [
    "<br>Este trabalho tem como intuito dispor visualmente a evolução das principais epidemias que ocorreram no Brasil: Covid-19(2020), Zika Virus(2016) e Dengue(2015). E a partir disso, comparar umas as outras."
   ]
  },
  {
   "cell_type": "markdown",
   "metadata": {},
   "source": [
    "<br>Os casos notificados são coletados durante o maior periodo epidemiológico da doença. Foram retiradas as informações das seguintes fontes:\n",
    "\n",
    "- Dengue(2015): http://tabnet.datasus.gov.br/cgi/tabcgi.exe?sinannet/cnv/denguebbr.def\n",
    "- Zika(2016): https://sage.saude.gov.br/graficos/index.php?editor=on&arquivo=microcefalia/microcefaliaSemana.php\n",
    "- Covid-19(2020 - 1º Semestre): https://covid.saude.gov.br/"
   ]
  },
  {
   "cell_type": "code",
   "execution_count": 1,
   "metadata": {},
   "outputs": [],
   "source": [
    "import pandas as pd\n",
    "import matplotlib.pyplot as plt\n",
    "%matplotlib inline"
   ]
  },
  {
   "cell_type": "code",
   "execution_count": 2,
   "metadata": {},
   "outputs": [],
   "source": [
    "covid_data = pd.read_excel(r'dataset/covid-2020.xlsx')\n",
    "zika_data = pd.read_csv(r'dataset/zika-microcefalia-2016.csv')\n",
    "dengue_data = pd.read_csv(r'dataset/dengue-2015.csv',encoding = 'utf-8')"
   ]
  },
  {
   "cell_type": "code",
   "execution_count": 3,
   "metadata": {
    "scrolled": false
   },
   "outputs": [
    {
     "name": "stdout",
     "output_type": "stream",
     "text": [
      "<class 'pandas.core.frame.DataFrame'>\n",
      "RangeIndex: 592708 entries, 0 to 592707\n",
      "Data columns (total 17 columns):\n",
      " #   Column                  Non-Null Count   Dtype         \n",
      "---  ------                  --------------   -----         \n",
      " 0   regiao                  592708 non-null  object        \n",
      " 1   estado                  592569 non-null  object        \n",
      " 2   municipio               586548 non-null  object        \n",
      " 3   coduf                   592708 non-null  int64         \n",
      " 4   codmun                  588816 non-null  float64       \n",
      " 5   codRegiaoSaude          586548 non-null  float64       \n",
      " 6   nomeRegiaoSaude         586548 non-null  object        \n",
      " 7   data                    592708 non-null  datetime64[ns]\n",
      " 8   semanaEpi               592708 non-null  int64         \n",
      " 9   populacaoTCU2019        590440 non-null  object        \n",
      " 10  casosAcumulado          592708 non-null  int64         \n",
      " 11  casosNovos              592708 non-null  int64         \n",
      " 12  obitosAcumulado         592708 non-null  int64         \n",
      " 13  obitosNovos             592708 non-null  int64         \n",
      " 14  Recuperadosnovos        85 non-null      float64       \n",
      " 15  emAcompanhamentoNovos   85 non-null      float64       \n",
      " 16  interior/metropolitana  586548 non-null  float64       \n",
      "dtypes: datetime64[ns](1), float64(5), int64(6), object(5)\n",
      "memory usage: 76.9+ MB\n"
     ]
    }
   ],
   "source": [
    "covid_data.info()"
   ]
  },
  {
   "cell_type": "code",
   "execution_count": 4,
   "metadata": {},
   "outputs": [
    {
     "name": "stdout",
     "output_type": "stream",
     "text": [
      "<class 'pandas.core.frame.DataFrame'>\n",
      "RangeIndex: 70 entries, 0 to 69\n",
      "Data columns (total 2 columns):\n",
      " #   Column                      Non-Null Count  Dtype  \n",
      "---  ------                      --------------  -----  \n",
      " 0   Semana epidem. Notificação  56 non-null     object \n",
      " 1   Casos_Prováveis             53 non-null     float64\n",
      "dtypes: float64(1), object(1)\n",
      "memory usage: 1.2+ KB\n"
     ]
    }
   ],
   "source": [
    "dengue_data.info()"
   ]
  },
  {
   "cell_type": "code",
   "execution_count": 5,
   "metadata": {},
   "outputs": [
    {
     "name": "stdout",
     "output_type": "stream",
     "text": [
      "<class 'pandas.core.frame.DataFrame'>\n",
      "RangeIndex: 44 entries, 0 to 43\n",
      "Data columns (total 5 columns):\n",
      " #   Column              Non-Null Count  Dtype \n",
      "---  ------              --------------  ----- \n",
      " 0   Semana              44 non-null     object\n",
      " 1   Casos Notificados   44 non-null     int64 \n",
      " 2   Em Investigação     44 non-null     int64 \n",
      " 3   Casos Confirmados   44 non-null     int64 \n",
      " 4   Casos Descartados   44 non-null     int64 \n",
      "dtypes: int64(4), object(1)\n",
      "memory usage: 1.8+ KB\n"
     ]
    }
   ],
   "source": [
    "zika_data.info()"
   ]
  },
  {
   "cell_type": "code",
   "execution_count": 6,
   "metadata": {},
   "outputs": [
    {
     "data": {
      "text/plain": [
       "<matplotlib.axes._subplots.AxesSubplot at 0x7f1251c8b400>"
      ]
     },
     "execution_count": 6,
     "metadata": {},
     "output_type": "execute_result"
    },
    {
     "data": {
      "image/png": "[encoded data removed]",
      "text/plain": [
       "<Figure size 432x288 with 1 Axes>"
      ]
     },
     "metadata": {
      "needs_background": "light"
     },
     "output_type": "display_data"
    }
   ],
   "source": [
    "dengue_data[0:52].plot('Semana epidem. Notificação','Casos_Prováveis',kind='bar')"
   ]
  },
  {
   "cell_type": "code",
   "execution_count": 7,
   "metadata": {},
   "outputs": [
    {
     "data": {
      "text/plain": [
       "<matplotlib.axes._subplots.AxesSubplot at 0x7f12514e5780>"
      ]
     },
     "execution_count": 7,
     "metadata": {},
     "output_type": "execute_result"
    },
    {
     "data": {
      "image/png": "[encoded data removed]",
      "text/plain": [
       "<Figure size 432x288 with 1 Axes>"
      ]
     },
     "metadata": {
      "needs_background": "light"
     },
     "output_type": "display_data"
    }
   ],
   "source": [
    "covid_data.groupby('semanaEpi')['casosAcumulado'].sum().plot(kind=\"bar\")"
   ]
  },
  {
   "cell_type": "code",
   "execution_count": 8,
   "metadata": {},
   "outputs": [
    {
     "data": {
      "text/plain": [
       "<matplotlib.axes._subplots.AxesSubplot at 0x7f1251d3c8d0>"
      ]
     },
     "execution_count": 8,
     "metadata": {},
     "output_type": "execute_result"
    },
    {
     "data": {
      "image/png": "[encoded data removed]",
      "text/plain": [
       "<Figure size 432x288 with 1 Axes>"
      ]
     },
     "metadata": {
      "needs_background": "light"
     },
     "output_type": "display_data"
    }
   ],
   "source": [
    "zika_data.plot('Semana ','Casos Notificados ')"
   ]
  },
  {
   "cell_type": "markdown",
   "metadata": {},
   "source": [
    "A partir dos gráficos dos periodos analisados, observa-se por exemplo, um periodo completo epidemico da *Dengue*. Em comparação com o gráfico do covid, este levou muito menos tempo para atingir o seu topo, porém com muitos menos casos."
   ]
  },
  {
   "cell_type": "markdown",
   "metadata": {},
   "source": [
    "A linha dos casos notificados do Zika Virus no entanto, mostram uma crescente no ano de 2016 e a progrediu mais que as demais para atingir o topo de casos. Uma amostra dos anos conseguintes seria melhor para conseguir entender como ela se comportaria no total. "
   ]
  },
  {
   "cell_type": "code",
   "execution_count": 9,
   "metadata": {},
   "outputs": [
    {
     "data": {
      "text/plain": [
       "[<matplotlib.lines.Line2D at 0x7f125138a6a0>]"
      ]
     },
     "execution_count": 9,
     "metadata": {},
     "output_type": "execute_result"
    },
    {
     "data": {
      "image/png": "[encoded data removed]",
      "text/plain": [
       "<Figure size 432x288 with 1 Axes>"
      ]
     },
     "metadata": {
      "needs_background": "light"
     },
     "output_type": "display_data"
    }
   ],
   "source": [
    "plt.plot(dengue_data[0:52]['Casos_Prováveis'])\n",
    "plt.plot(zika_data['Casos Notificados '])\n",
    "plt.plot(covid_data.groupby('semanaEpi')['casosNovos'].sum()[:-1])"
   ]
  }
 ],
 "metadata": {
  "kernelspec": {
   "display_name": "Python 3",
   "language": "python",
   "name": "python3"
  },
  "language_info": {
   "codemirror_mode": {
    "name": "ipython",
    "version": 3
   },
   "file_extension": ".py",
   "mimetype": "text/x-python",
   "name": "python",
   "nbconvert_exporter": "python",
   "pygments_lexer": "ipython3",
   "version": "3.6.9"
  }
 },
 "nbformat": 4,
 "nbformat_minor": 4
}
